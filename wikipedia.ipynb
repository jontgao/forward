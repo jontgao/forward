{
 "cells": [
  {
   "cell_type": "markdown",
   "id": "b41bd14b-d8af-4484-93c1-d206e15a05b2",
   "metadata": {},
   "source": [
    "# Wikipedia Generation"
   ]
  },
  {
   "cell_type": "markdown",
   "id": "11944dcd-29b8-4410-afbd-bf387e8ac391",
   "metadata": {},
   "source": [
    "## Setup"
   ]
  },
  {
   "cell_type": "code",
   "execution_count": 89,
   "id": "31279522-affe-431c-a3c0-9aeeae488c50",
   "metadata": {},
   "outputs": [],
   "source": [
    "import torch\n",
    "import transformers"
   ]
  },
  {
   "cell_type": "code",
   "execution_count": 90,
   "id": "c40d8476-a99c-4677-8a94-ce50791abda7",
   "metadata": {},
   "outputs": [
    {
     "name": "stderr",
     "output_type": "stream",
     "text": [
      "Device set to use cuda:0\n"
     ]
    }
   ],
   "source": [
    "model_id = \"TinyLlama/TinyLlama-1.1B-Chat-v1.0\"\n",
    "\n",
    "pipeline = transformers.pipeline(\n",
    "    \"text-generation\",\n",
    "    model=model_id,\n",
    "    torch_dtype=torch.float16,\n",
    "    device_map=\"auto\",\n",
    ")"
   ]
  },
  {
   "cell_type": "markdown",
   "id": "8750af52-a8bc-42bf-990e-a207ea5ca4b3",
   "metadata": {},
   "source": [
    "## Text Generation"
   ]
  },
  {
   "cell_type": "code",
   "execution_count": 122,
   "id": "d053863c-f788-4ba3-a86b-dc3817abe478",
   "metadata": {},
   "outputs": [],
   "source": [
    "import wikipedia_generation_prompts\n",
    "messages = [\n",
    "    {\"role\": \"system\", \"content\": wikipedia_generation_prompts.ONE_SHOT.format(topic=topic).strip()},\n",
    "    {\"role\": \"user\", \"content\": wikipedia_generation_prompts.PROMPT.format(topic=topic).strip()},\n",
    "]\n",
    "\n",
    "prompt = pipeline.tokenizer.apply_chat_template(messages, tokenize=False, add_generation_prompt=True)\n",
    "outputs = pipeline(\n",
    "    prompt,\n",
    "    max_new_tokens=1000,\n",
    ")"
   ]
  },
  {
   "cell_type": "code",
   "execution_count": 128,
   "id": "257b0efa-4c0c-479d-b653-667fbdeae652",
   "metadata": {
    "scrolled": true
   },
   "outputs": [
    {
     "name": "stdout",
     "output_type": "stream",
     "text": [
      "Survey: Introduction to Data Structures\n",
      "\n",
      "Introduction\n",
      "\n",
      "Data Structures are an essential part of any software development process. They define how data is organized and accessed within a system. This survey aims to provide an overview of the key concepts surrounding data structures, including their history, key ideas, variations, and applications.\n",
      "\n",
      "History\n",
      "\n",
      "Data structures have a rich history, dating back to the early days of computer programming. The first data structures were based on classical algorithms such as sorting and searching, which were used to organize and access data within a system. The concept of a data structure was introduced by Alan Perlis in the late 1960s, and further developed by many researchers during the 1970s and 1980s.\n",
      "\n",
      "One of the most important developments in data structures was the invention of the stack, which was used to implement priority queues. This was a key concept in the development of data structures for the early internet, as it allowed for efficient communication between applications.\n",
      "\n",
      "Key Ideas\n",
      "\n",
      "1. Data Structures define how data is organized and accessed within a system.\n",
      "2. Data structures include structures, which are composed of data and operations, and algorithms, which are functions that manipulate data.\n",
      "3. Data structures can be used for a variety of tasks, including sorting, searching, indexing, and manipulation.\n",
      "\n",
      "Variations\n",
      "\n",
      "1. Linked Data Structures, also known as linked lists, are a type of data structure that uses pointers to access data.\n",
      "2. Hash Tables, which are used to store and retrieve data based on hash values.\n",
      "3. Stacks and Queues, which are data structures used to implement priority queues.\n",
      "\n",
      "Applications\n",
      "\n",
      "1. Sorting algorithms are used to organize and access data within a system.\n",
      "2. Search algorithms are used to find particular elements within a data structure.\n",
      "3. Indexing is used to find specific elements within a data structure.\n",
      "\n",
      "Motivation behind concept\n",
      "\n",
      "Data structures are an essential part of software development, as they define how data is organized and accessed within a system. They are critical in ensuring that data is stored and accessed in a way that is efficient and accurate.\n",
      "\n",
      "Related ideas\n",
      "\n",
      "1. Data mining, which is the use of data structures and algorithms to extract insight and insights from large datasets.\n",
      "2. Graphs, which are data structures used for representing and manipulating complex networks.\n",
      "3. Concurrency, which is the use of data structures to manage data sharing and synchronization, which can lead to better performance and scalability.\n",
      "\n",
      "Conclusion\n",
      "\n",
      "Data structures are an essential part of any software development process. They define how data is organized and accessed within a system. This survey provides a brief overview of the key concepts surrounding data structures, including their history, key ideas, variations, and applications. By understanding the history and motivation behind data structures, you can develop better data structures for your software projects.\n"
     ]
    }
   ],
   "source": [
    "generated = outputs[0]['generated_text'][len(prompt):]\n",
    "print(generated)"
   ]
  },
  {
   "cell_type": "markdown",
   "id": "b9a22256-3983-49a6-a1ab-bdb8e04e24dc",
   "metadata": {},
   "source": [
    "## Sentencizer"
   ]
  },
  {
   "cell_type": "code",
   "execution_count": 129,
   "id": "95af2380-4864-4512-9108-0834bacb07e0",
   "metadata": {},
   "outputs": [],
   "source": [
    "from spacy.lang.en import English\n",
    "\n",
    "nlp = English()\n",
    "nlp.add_pipe(\"sentencizer\")\n",
    "doc = nlp(generated)"
   ]
  },
  {
   "cell_type": "code",
   "execution_count": 150,
   "id": "ec3e7751-e6e1-431e-bfa3-77b357420fe1",
   "metadata": {},
   "outputs": [
    {
     "data": {
      "text/plain": [
       "['Survey: Introduction to Data Structures\\n\\nIntroduction\\n\\nData Structures are an essential part of any software development process.',\n",
       " 'They define how data is organized and accessed within a system.',\n",
       " 'This survey aims to provide an overview of the key concepts surrounding data structures, including their history, key ideas, variations, and applications.',\n",
       " '\\n\\nHistory\\n\\nData structures have a rich history, dating back to the early days of computer programming.',\n",
       " 'The first data structures were based on classical algorithms such as sorting and searching, which were used to organize and access data within a system.']"
      ]
     },
     "execution_count": 150,
     "metadata": {},
     "output_type": "execute_result"
    }
   ],
   "source": [
    "sentences = [str(s) for s in doc.sents]\n",
    "sentences[:5]"
   ]
  },
  {
   "cell_type": "code",
   "execution_count": 2,
   "id": "fe0bfc32-7a40-48a4-966b-a4b5f1ac6550",
   "metadata": {},
   "outputs": [],
   "source": [
    "import json\n",
    "# export to file for RARR\n",
    "input_file = \"generated_input.jsonl\"\n",
    "output_file = \"output.jsonl\"\n",
    "claim_field = \"claim\""
   ]
  },
  {
   "cell_type": "code",
   "execution_count": null,
   "id": "daa0d1a7-fa37-43e3-9e03-31b7955bcb22",
   "metadata": {},
   "outputs": [],
   "source": [
    "with open(input_file, \"w\", encoding=\"utf-8\") as writer:\n",
    "    for sentence in sentences:\n",
    "        writer.write(json.dumps({\"input_info\": {claim_field: sentence}}, ensure_ascii=False) + \"\\n\")"
   ]
  },
  {
   "cell_type": "markdown",
   "id": "fd93867f-8530-4b50-b864-31f79b3b7126",
   "metadata": {},
   "source": [
    "# Attribution"
   ]
  },
  {
   "cell_type": "markdown",
   "id": "f9523816-c2ce-4c69-93a9-a61a2fd96f37",
   "metadata": {
    "jp-MarkdownHeadingCollapsed": true
   },
   "source": [
    "## RARR"
   ]
  },
  {
   "cell_type": "code",
   "execution_count": 159,
   "id": "1088d466-3953-4425-bcb5-8c43a9af6167",
   "metadata": {},
   "outputs": [],
   "source": [
    "import sys\n",
    "sys.path.append(\"./RARR/RARR\")\n",
    "import run_editor_sequential"
   ]
  },
  {
   "cell_type": "code",
   "execution_count": 165,
   "id": "bdf7daf0-d933-4807-aa3a-f2130076e37e",
   "metadata": {
    "scrolled": true
   },
   "outputs": [
    {
     "name": "stderr",
     "output_type": "stream",
     "text": [
      "Device set to use cuda:0\n",
      "The following generation flags are not valid and may be ignored: ['temperature']. Set `TRANSFORMERS_VERBOSITY=info` for more details.\n",
      "The following generation flags are not valid and may be ignored: ['temperature']. Set `TRANSFORMERS_VERBOSITY=info` for more details.\n",
      "The following generation flags are not valid and may be ignored: ['temperature']. Set `TRANSFORMERS_VERBOSITY=info` for more details.\n",
      "The following generation flags are not valid and may be ignored: ['temperature']. Set `TRANSFORMERS_VERBOSITY=info` for more details.\n",
      "The following generation flags are not valid and may be ignored: ['temperature']. Set `TRANSFORMERS_VERBOSITY=info` for more details.\n",
      "The following generation flags are not valid and may be ignored: ['temperature']. Set `TRANSFORMERS_VERBOSITY=info` for more details.\n",
      "The following generation flags are not valid and may be ignored: ['temperature']. Set `TRANSFORMERS_VERBOSITY=info` for more details.\n",
      "The following generation flags are not valid and may be ignored: ['temperature']. Set `TRANSFORMERS_VERBOSITY=info` for more details.\n",
      "The following generation flags are not valid and may be ignored: ['temperature']. Set `TRANSFORMERS_VERBOSITY=info` for more details.\n",
      "The following generation flags are not valid and may be ignored: ['temperature']. Set `TRANSFORMERS_VERBOSITY=info` for more details.\n",
      "The following generation flags are not valid and may be ignored: ['temperature']. Set `TRANSFORMERS_VERBOSITY=info` for more details.\n",
      "The following generation flags are not valid and may be ignored: ['temperature']. Set `TRANSFORMERS_VERBOSITY=info` for more details.\n",
      "The following generation flags are not valid and may be ignored: ['temperature']. Set `TRANSFORMERS_VERBOSITY=info` for more details.\n",
      "The following generation flags are not valid and may be ignored: ['temperature']. Set `TRANSFORMERS_VERBOSITY=info` for more details.\n",
      "The following generation flags are not valid and may be ignored: ['temperature']. Set `TRANSFORMERS_VERBOSITY=info` for more details.\n",
      "The following generation flags are not valid and may be ignored: ['temperature']. Set `TRANSFORMERS_VERBOSITY=info` for more details.\n",
      "The following generation flags are not valid and may be ignored: ['temperature']. Set `TRANSFORMERS_VERBOSITY=info` for more details.\n",
      "The following generation flags are not valid and may be ignored: ['temperature']. Set `TRANSFORMERS_VERBOSITY=info` for more details.\n",
      "The following generation flags are not valid and may be ignored: ['temperature']. Set `TRANSFORMERS_VERBOSITY=info` for more details.\n",
      "The following generation flags are not valid and may be ignored: ['temperature']. Set `TRANSFORMERS_VERBOSITY=info` for more details.\n",
      "The following generation flags are not valid and may be ignored: ['temperature']. Set `TRANSFORMERS_VERBOSITY=info` for more details.\n",
      "The following generation flags are not valid and may be ignored: ['temperature']. Set `TRANSFORMERS_VERBOSITY=info` for more details.\n",
      "The following generation flags are not valid and may be ignored: ['temperature']. Set `TRANSFORMERS_VERBOSITY=info` for more details.\n",
      "The following generation flags are not valid and may be ignored: ['temperature']. Set `TRANSFORMERS_VERBOSITY=info` for more details.\n",
      "The following generation flags are not valid and may be ignored: ['temperature']. Set `TRANSFORMERS_VERBOSITY=info` for more details.\n",
      "The following generation flags are not valid and may be ignored: ['temperature']. Set `TRANSFORMERS_VERBOSITY=info` for more details.\n",
      "The following generation flags are not valid and may be ignored: ['temperature']. Set `TRANSFORMERS_VERBOSITY=info` for more details.\n",
      "The following generation flags are not valid and may be ignored: ['temperature']. Set `TRANSFORMERS_VERBOSITY=info` for more details.\n",
      "The following generation flags are not valid and may be ignored: ['temperature']. Set `TRANSFORMERS_VERBOSITY=info` for more details.\n",
      "The following generation flags are not valid and may be ignored: ['temperature']. Set `TRANSFORMERS_VERBOSITY=info` for more details.\n",
      "The following generation flags are not valid and may be ignored: ['temperature']. Set `TRANSFORMERS_VERBOSITY=info` for more details.\n",
      "The following generation flags are not valid and may be ignored: ['temperature']. Set `TRANSFORMERS_VERBOSITY=info` for more details.\n",
      "The following generation flags are not valid and may be ignored: ['temperature']. Set `TRANSFORMERS_VERBOSITY=info` for more details.\n",
      "The following generation flags are not valid and may be ignored: ['temperature']. Set `TRANSFORMERS_VERBOSITY=info` for more details.\n",
      "The following generation flags are not valid and may be ignored: ['temperature']. Set `TRANSFORMERS_VERBOSITY=info` for more details.\n",
      "The following generation flags are not valid and may be ignored: ['temperature']. Set `TRANSFORMERS_VERBOSITY=info` for more details.\n",
      "The following generation flags are not valid and may be ignored: ['temperature']. Set `TRANSFORMERS_VERBOSITY=info` for more details.\n",
      "The following generation flags are not valid and may be ignored: ['temperature']. Set `TRANSFORMERS_VERBOSITY=info` for more details.\n",
      "The following generation flags are not valid and may be ignored: ['temperature']. Set `TRANSFORMERS_VERBOSITY=info` for more details.\n",
      "The following generation flags are not valid and may be ignored: ['temperature']. Set `TRANSFORMERS_VERBOSITY=info` for more details.\n",
      "The following generation flags are not valid and may be ignored: ['temperature']. Set `TRANSFORMERS_VERBOSITY=info` for more details.\n",
      "The following generation flags are not valid and may be ignored: ['temperature']. Set `TRANSFORMERS_VERBOSITY=info` for more details.\n",
      "The following generation flags are not valid and may be ignored: ['temperature']. Set `TRANSFORMERS_VERBOSITY=info` for more details.\n",
      "The following generation flags are not valid and may be ignored: ['temperature']. Set `TRANSFORMERS_VERBOSITY=info` for more details.\n",
      "The following generation flags are not valid and may be ignored: ['temperature']. Set `TRANSFORMERS_VERBOSITY=info` for more details.\n",
      "The following generation flags are not valid and may be ignored: ['temperature']. Set `TRANSFORMERS_VERBOSITY=info` for more details.\n",
      "The following generation flags are not valid and may be ignored: ['temperature']. Set `TRANSFORMERS_VERBOSITY=info` for more details.\n",
      "The following generation flags are not valid and may be ignored: ['temperature']. Set `TRANSFORMERS_VERBOSITY=info` for more details.\n",
      "The following generation flags are not valid and may be ignored: ['temperature']. Set `TRANSFORMERS_VERBOSITY=info` for more details.\n",
      "The following generation flags are not valid and may be ignored: ['temperature']. Set `TRANSFORMERS_VERBOSITY=info` for more details.\n",
      "The following generation flags are not valid and may be ignored: ['temperature']. Set `TRANSFORMERS_VERBOSITY=info` for more details.\n",
      "The following generation flags are not valid and may be ignored: ['temperature']. Set `TRANSFORMERS_VERBOSITY=info` for more details.\n",
      "The following generation flags are not valid and may be ignored: ['temperature']. Set `TRANSFORMERS_VERBOSITY=info` for more details.\n",
      "The following generation flags are not valid and may be ignored: ['temperature']. Set `TRANSFORMERS_VERBOSITY=info` for more details.\n",
      "The following generation flags are not valid and may be ignored: ['temperature']. Set `TRANSFORMERS_VERBOSITY=info` for more details.\n",
      "The following generation flags are not valid and may be ignored: ['temperature']. Set `TRANSFORMERS_VERBOSITY=info` for more details.\n",
      "The following generation flags are not valid and may be ignored: ['temperature']. Set `TRANSFORMERS_VERBOSITY=info` for more details.\n",
      "The following generation flags are not valid and may be ignored: ['temperature']. Set `TRANSFORMERS_VERBOSITY=info` for more details.\n",
      "The following generation flags are not valid and may be ignored: ['temperature']. Set `TRANSFORMERS_VERBOSITY=info` for more details.\n",
      "The following generation flags are not valid and may be ignored: ['temperature']. Set `TRANSFORMERS_VERBOSITY=info` for more details.\n",
      "The following generation flags are not valid and may be ignored: ['temperature']. Set `TRANSFORMERS_VERBOSITY=info` for more details.\n",
      "The following generation flags are not valid and may be ignored: ['temperature']. Set `TRANSFORMERS_VERBOSITY=info` for more details.\n",
      "The following generation flags are not valid and may be ignored: ['temperature']. Set `TRANSFORMERS_VERBOSITY=info` for more details.\n",
      "The following generation flags are not valid and may be ignored: ['temperature']. Set `TRANSFORMERS_VERBOSITY=info` for more details.\n",
      "The following generation flags are not valid and may be ignored: ['temperature']. Set `TRANSFORMERS_VERBOSITY=info` for more details.\n",
      "The following generation flags are not valid and may be ignored: ['temperature']. Set `TRANSFORMERS_VERBOSITY=info` for more details.\n",
      "The following generation flags are not valid and may be ignored: ['temperature']. Set `TRANSFORMERS_VERBOSITY=info` for more details.\n",
      "The following generation flags are not valid and may be ignored: ['temperature']. Set `TRANSFORMERS_VERBOSITY=info` for more details.\n",
      "The following generation flags are not valid and may be ignored: ['temperature']. Set `TRANSFORMERS_VERBOSITY=info` for more details.\n",
      "The following generation flags are not valid and may be ignored: ['temperature']. Set `TRANSFORMERS_VERBOSITY=info` for more details.\n",
      "The following generation flags are not valid and may be ignored: ['temperature']. Set `TRANSFORMERS_VERBOSITY=info` for more details.\n",
      "The following generation flags are not valid and may be ignored: ['temperature']. Set `TRANSFORMERS_VERBOSITY=info` for more details.\n",
      "The following generation flags are not valid and may be ignored: ['temperature']. Set `TRANSFORMERS_VERBOSITY=info` for more details.\n",
      "The following generation flags are not valid and may be ignored: ['temperature']. Set `TRANSFORMERS_VERBOSITY=info` for more details.\n",
      "The following generation flags are not valid and may be ignored: ['temperature']. Set `TRANSFORMERS_VERBOSITY=info` for more details.\n",
      "The following generation flags are not valid and may be ignored: ['temperature']. Set `TRANSFORMERS_VERBOSITY=info` for more details.\n",
      "The following generation flags are not valid and may be ignored: ['temperature']. Set `TRANSFORMERS_VERBOSITY=info` for more details.\n",
      "The following generation flags are not valid and may be ignored: ['temperature']. Set `TRANSFORMERS_VERBOSITY=info` for more details.\n",
      "The following generation flags are not valid and may be ignored: ['temperature']. Set `TRANSFORMERS_VERBOSITY=info` for more details.\n",
      "The following generation flags are not valid and may be ignored: ['temperature']. Set `TRANSFORMERS_VERBOSITY=info` for more details.\n",
      "The following generation flags are not valid and may be ignored: ['temperature']. Set `TRANSFORMERS_VERBOSITY=info` for more details.\n",
      "The following generation flags are not valid and may be ignored: ['temperature']. Set `TRANSFORMERS_VERBOSITY=info` for more details.\n",
      "The following generation flags are not valid and may be ignored: ['temperature']. Set `TRANSFORMERS_VERBOSITY=info` for more details.\n",
      "The following generation flags are not valid and may be ignored: ['temperature']. Set `TRANSFORMERS_VERBOSITY=info` for more details.\n",
      "The following generation flags are not valid and may be ignored: ['temperature']. Set `TRANSFORMERS_VERBOSITY=info` for more details.\n",
      "The following generation flags are not valid and may be ignored: ['temperature']. Set `TRANSFORMERS_VERBOSITY=info` for more details.\n",
      "The following generation flags are not valid and may be ignored: ['temperature']. Set `TRANSFORMERS_VERBOSITY=info` for more details.\n",
      "The following generation flags are not valid and may be ignored: ['temperature']. Set `TRANSFORMERS_VERBOSITY=info` for more details.\n",
      "The following generation flags are not valid and may be ignored: ['temperature']. Set `TRANSFORMERS_VERBOSITY=info` for more details.\n",
      "The following generation flags are not valid and may be ignored: ['temperature']. Set `TRANSFORMERS_VERBOSITY=info` for more details.\n",
      "The following generation flags are not valid and may be ignored: ['temperature']. Set `TRANSFORMERS_VERBOSITY=info` for more details.\n",
      "The following generation flags are not valid and may be ignored: ['temperature']. Set `TRANSFORMERS_VERBOSITY=info` for more details.\n",
      "The following generation flags are not valid and may be ignored: ['temperature']. Set `TRANSFORMERS_VERBOSITY=info` for more details.\n",
      "The following generation flags are not valid and may be ignored: ['temperature']. Set `TRANSFORMERS_VERBOSITY=info` for more details.\n",
      "The following generation flags are not valid and may be ignored: ['temperature']. Set `TRANSFORMERS_VERBOSITY=info` for more details.\n",
      "The following generation flags are not valid and may be ignored: ['temperature']. Set `TRANSFORMERS_VERBOSITY=info` for more details.\n",
      "The following generation flags are not valid and may be ignored: ['temperature']. Set `TRANSFORMERS_VERBOSITY=info` for more details.\n",
      "The following generation flags are not valid and may be ignored: ['temperature']. Set `TRANSFORMERS_VERBOSITY=info` for more details.\n",
      "The following generation flags are not valid and may be ignored: ['temperature']. Set `TRANSFORMERS_VERBOSITY=info` for more details.\n",
      "The following generation flags are not valid and may be ignored: ['temperature']. Set `TRANSFORMERS_VERBOSITY=info` for more details.\n",
      "The following generation flags are not valid and may be ignored: ['temperature']. Set `TRANSFORMERS_VERBOSITY=info` for more details.\n",
      "The following generation flags are not valid and may be ignored: ['temperature']. Set `TRANSFORMERS_VERBOSITY=info` for more details.\n",
      "The following generation flags are not valid and may be ignored: ['temperature']. Set `TRANSFORMERS_VERBOSITY=info` for more details.\n",
      "The following generation flags are not valid and may be ignored: ['temperature']. Set `TRANSFORMERS_VERBOSITY=info` for more details.\n",
      "The following generation flags are not valid and may be ignored: ['temperature']. Set `TRANSFORMERS_VERBOSITY=info` for more details.\n",
      "The following generation flags are not valid and may be ignored: ['temperature']. Set `TRANSFORMERS_VERBOSITY=info` for more details.\n",
      "The following generation flags are not valid and may be ignored: ['temperature']. Set `TRANSFORMERS_VERBOSITY=info` for more details.\n",
      "The following generation flags are not valid and may be ignored: ['temperature']. Set `TRANSFORMERS_VERBOSITY=info` for more details.\n",
      "The following generation flags are not valid and may be ignored: ['temperature']. Set `TRANSFORMERS_VERBOSITY=info` for more details.\n",
      "The following generation flags are not valid and may be ignored: ['temperature']. Set `TRANSFORMERS_VERBOSITY=info` for more details.\n",
      "The following generation flags are not valid and may be ignored: ['temperature']. Set `TRANSFORMERS_VERBOSITY=info` for more details.\n",
      "The following generation flags are not valid and may be ignored: ['temperature']. Set `TRANSFORMERS_VERBOSITY=info` for more details.\n",
      "The following generation flags are not valid and may be ignored: ['temperature']. Set `TRANSFORMERS_VERBOSITY=info` for more details.\n",
      "The following generation flags are not valid and may be ignored: ['temperature']. Set `TRANSFORMERS_VERBOSITY=info` for more details.\n",
      "The following generation flags are not valid and may be ignored: ['temperature']. Set `TRANSFORMERS_VERBOSITY=info` for more details.\n",
      "The following generation flags are not valid and may be ignored: ['temperature']. Set `TRANSFORMERS_VERBOSITY=info` for more details.\n",
      "The following generation flags are not valid and may be ignored: ['temperature']. Set `TRANSFORMERS_VERBOSITY=info` for more details.\n",
      "The following generation flags are not valid and may be ignored: ['temperature']. Set `TRANSFORMERS_VERBOSITY=info` for more details.\n",
      "The following generation flags are not valid and may be ignored: ['temperature']. Set `TRANSFORMERS_VERBOSITY=info` for more details.\n",
      "The following generation flags are not valid and may be ignored: ['temperature']. Set `TRANSFORMERS_VERBOSITY=info` for more details.\n",
      "The following generation flags are not valid and may be ignored: ['temperature']. Set `TRANSFORMERS_VERBOSITY=info` for more details.\n",
      "The following generation flags are not valid and may be ignored: ['temperature']. Set `TRANSFORMERS_VERBOSITY=info` for more details.\n",
      "The following generation flags are not valid and may be ignored: ['temperature']. Set `TRANSFORMERS_VERBOSITY=info` for more details.\n",
      "The following generation flags are not valid and may be ignored: ['temperature']. Set `TRANSFORMERS_VERBOSITY=info` for more details.\n",
      "The following generation flags are not valid and may be ignored: ['temperature']. Set `TRANSFORMERS_VERBOSITY=info` for more details.\n",
      "The following generation flags are not valid and may be ignored: ['temperature']. Set `TRANSFORMERS_VERBOSITY=info` for more details.\n",
      "The following generation flags are not valid and may be ignored: ['temperature']. Set `TRANSFORMERS_VERBOSITY=info` for more details.\n",
      "The following generation flags are not valid and may be ignored: ['temperature']. Set `TRANSFORMERS_VERBOSITY=info` for more details.\n",
      "The following generation flags are not valid and may be ignored: ['temperature']. Set `TRANSFORMERS_VERBOSITY=info` for more details.\n",
      "The following generation flags are not valid and may be ignored: ['temperature']. Set `TRANSFORMERS_VERBOSITY=info` for more details.\n",
      "The following generation flags are not valid and may be ignored: ['temperature']. Set `TRANSFORMERS_VERBOSITY=info` for more details.\n",
      "The following generation flags are not valid and may be ignored: ['temperature']. Set `TRANSFORMERS_VERBOSITY=info` for more details.\n",
      "The following generation flags are not valid and may be ignored: ['temperature']. Set `TRANSFORMERS_VERBOSITY=info` for more details.\n",
      "The following generation flags are not valid and may be ignored: ['temperature']. Set `TRANSFORMERS_VERBOSITY=info` for more details.\n",
      "The following generation flags are not valid and may be ignored: ['temperature']. Set `TRANSFORMERS_VERBOSITY=info` for more details.\n",
      "The following generation flags are not valid and may be ignored: ['temperature']. Set `TRANSFORMERS_VERBOSITY=info` for more details.\n",
      "The following generation flags are not valid and may be ignored: ['temperature']. Set `TRANSFORMERS_VERBOSITY=info` for more details.\n",
      "The following generation flags are not valid and may be ignored: ['temperature']. Set `TRANSFORMERS_VERBOSITY=info` for more details.\n",
      "The following generation flags are not valid and may be ignored: ['temperature']. Set `TRANSFORMERS_VERBOSITY=info` for more details.\n",
      "The following generation flags are not valid and may be ignored: ['temperature']. Set `TRANSFORMERS_VERBOSITY=info` for more details.\n",
      "The following generation flags are not valid and may be ignored: ['temperature']. Set `TRANSFORMERS_VERBOSITY=info` for more details.\n",
      "The following generation flags are not valid and may be ignored: ['temperature']. Set `TRANSFORMERS_VERBOSITY=info` for more details.\n",
      "The following generation flags are not valid and may be ignored: ['temperature']. Set `TRANSFORMERS_VERBOSITY=info` for more details.\n",
      "The following generation flags are not valid and may be ignored: ['temperature']. Set `TRANSFORMERS_VERBOSITY=info` for more details.\n",
      "The following generation flags are not valid and may be ignored: ['temperature']. Set `TRANSFORMERS_VERBOSITY=info` for more details.\n",
      "The following generation flags are not valid and may be ignored: ['temperature']. Set `TRANSFORMERS_VERBOSITY=info` for more details.\n",
      "The following generation flags are not valid and may be ignored: ['temperature']. Set `TRANSFORMERS_VERBOSITY=info` for more details.\n",
      "The following generation flags are not valid and may be ignored: ['temperature']. Set `TRANSFORMERS_VERBOSITY=info` for more details.\n",
      "The following generation flags are not valid and may be ignored: ['temperature']. Set `TRANSFORMERS_VERBOSITY=info` for more details.\n",
      "The following generation flags are not valid and may be ignored: ['temperature']. Set `TRANSFORMERS_VERBOSITY=info` for more details.\n",
      "The following generation flags are not valid and may be ignored: ['temperature']. Set `TRANSFORMERS_VERBOSITY=info` for more details.\n",
      "The following generation flags are not valid and may be ignored: ['temperature']. Set `TRANSFORMERS_VERBOSITY=info` for more details.\n",
      "The following generation flags are not valid and may be ignored: ['temperature']. Set `TRANSFORMERS_VERBOSITY=info` for more details.\n",
      "The following generation flags are not valid and may be ignored: ['temperature']. Set `TRANSFORMERS_VERBOSITY=info` for more details.\n",
      "The following generation flags are not valid and may be ignored: ['temperature']. Set `TRANSFORMERS_VERBOSITY=info` for more details.\n",
      "The following generation flags are not valid and may be ignored: ['temperature']. Set `TRANSFORMERS_VERBOSITY=info` for more details.\n",
      "The following generation flags are not valid and may be ignored: ['temperature']. Set `TRANSFORMERS_VERBOSITY=info` for more details.\n",
      "The following generation flags are not valid and may be ignored: ['temperature']. Set `TRANSFORMERS_VERBOSITY=info` for more details.\n",
      "The following generation flags are not valid and may be ignored: ['temperature']. Set `TRANSFORMERS_VERBOSITY=info` for more details.\n",
      "The following generation flags are not valid and may be ignored: ['temperature']. Set `TRANSFORMERS_VERBOSITY=info` for more details.\n",
      "The following generation flags are not valid and may be ignored: ['temperature']. Set `TRANSFORMERS_VERBOSITY=info` for more details.\n",
      "The following generation flags are not valid and may be ignored: ['temperature']. Set `TRANSFORMERS_VERBOSITY=info` for more details.\n",
      "The following generation flags are not valid and may be ignored: ['temperature']. Set `TRANSFORMERS_VERBOSITY=info` for more details.\n",
      "The following generation flags are not valid and may be ignored: ['temperature']. Set `TRANSFORMERS_VERBOSITY=info` for more details.\n",
      "The following generation flags are not valid and may be ignored: ['temperature']. Set `TRANSFORMERS_VERBOSITY=info` for more details.\n",
      "The following generation flags are not valid and may be ignored: ['temperature']. Set `TRANSFORMERS_VERBOSITY=info` for more details.\n",
      "The following generation flags are not valid and may be ignored: ['temperature']. Set `TRANSFORMERS_VERBOSITY=info` for more details.\n",
      "The following generation flags are not valid and may be ignored: ['temperature']. Set `TRANSFORMERS_VERBOSITY=info` for more details.\n",
      "The following generation flags are not valid and may be ignored: ['temperature']. Set `TRANSFORMERS_VERBOSITY=info` for more details.\n",
      "The following generation flags are not valid and may be ignored: ['temperature']. Set `TRANSFORMERS_VERBOSITY=info` for more details.\n",
      "The following generation flags are not valid and may be ignored: ['temperature']. Set `TRANSFORMERS_VERBOSITY=info` for more details.\n",
      "The following generation flags are not valid and may be ignored: ['temperature']. Set `TRANSFORMERS_VERBOSITY=info` for more details.\n",
      "The following generation flags are not valid and may be ignored: ['temperature']. Set `TRANSFORMERS_VERBOSITY=info` for more details.\n",
      "The following generation flags are not valid and may be ignored: ['temperature']. Set `TRANSFORMERS_VERBOSITY=info` for more details.\n",
      "The following generation flags are not valid and may be ignored: ['temperature']. Set `TRANSFORMERS_VERBOSITY=info` for more details.\n",
      "The following generation flags are not valid and may be ignored: ['temperature']. Set `TRANSFORMERS_VERBOSITY=info` for more details.\n",
      "The following generation flags are not valid and may be ignored: ['temperature']. Set `TRANSFORMERS_VERBOSITY=info` for more details.\n",
      "The following generation flags are not valid and may be ignored: ['temperature']. Set `TRANSFORMERS_VERBOSITY=info` for more details.\n",
      "The following generation flags are not valid and may be ignored: ['temperature']. Set `TRANSFORMERS_VERBOSITY=info` for more details.\n",
      "The following generation flags are not valid and may be ignored: ['temperature']. Set `TRANSFORMERS_VERBOSITY=info` for more details.\n",
      "The following generation flags are not valid and may be ignored: ['temperature']. Set `TRANSFORMERS_VERBOSITY=info` for more details.\n",
      "The following generation flags are not valid and may be ignored: ['temperature']. Set `TRANSFORMERS_VERBOSITY=info` for more details.\n",
      "The following generation flags are not valid and may be ignored: ['temperature']. Set `TRANSFORMERS_VERBOSITY=info` for more details.\n",
      "The following generation flags are not valid and may be ignored: ['temperature']. Set `TRANSFORMERS_VERBOSITY=info` for more details.\n",
      "The following generation flags are not valid and may be ignored: ['temperature']. Set `TRANSFORMERS_VERBOSITY=info` for more details.\n",
      "The following generation flags are not valid and may be ignored: ['temperature']. Set `TRANSFORMERS_VERBOSITY=info` for more details.\n",
      "The following generation flags are not valid and may be ignored: ['temperature']. Set `TRANSFORMERS_VERBOSITY=info` for more details.\n",
      "The following generation flags are not valid and may be ignored: ['temperature']. Set `TRANSFORMERS_VERBOSITY=info` for more details.\n",
      "The following generation flags are not valid and may be ignored: ['temperature']. Set `TRANSFORMERS_VERBOSITY=info` for more details.\n",
      "The following generation flags are not valid and may be ignored: ['temperature']. Set `TRANSFORMERS_VERBOSITY=info` for more details.\n",
      "The following generation flags are not valid and may be ignored: ['temperature']. Set `TRANSFORMERS_VERBOSITY=info` for more details.\n",
      "The following generation flags are not valid and may be ignored: ['temperature']. Set `TRANSFORMERS_VERBOSITY=info` for more details.\n",
      "The following generation flags are not valid and may be ignored: ['temperature']. Set `TRANSFORMERS_VERBOSITY=info` for more details.\n",
      "The following generation flags are not valid and may be ignored: ['temperature']. Set `TRANSFORMERS_VERBOSITY=info` for more details.\n",
      "The following generation flags are not valid and may be ignored: ['temperature']. Set `TRANSFORMERS_VERBOSITY=info` for more details.\n",
      "The following generation flags are not valid and may be ignored: ['temperature']. Set `TRANSFORMERS_VERBOSITY=info` for more details.\n",
      "The following generation flags are not valid and may be ignored: ['temperature']. Set `TRANSFORMERS_VERBOSITY=info` for more details.\n",
      "The following generation flags are not valid and may be ignored: ['temperature']. Set `TRANSFORMERS_VERBOSITY=info` for more details.\n",
      "The following generation flags are not valid and may be ignored: ['temperature']. Set `TRANSFORMERS_VERBOSITY=info` for more details.\n",
      "The following generation flags are not valid and may be ignored: ['temperature']. Set `TRANSFORMERS_VERBOSITY=info` for more details.\n",
      "The following generation flags are not valid and may be ignored: ['temperature']. Set `TRANSFORMERS_VERBOSITY=info` for more details.\n",
      "The following generation flags are not valid and may be ignored: ['temperature']. Set `TRANSFORMERS_VERBOSITY=info` for more details.\n",
      "The following generation flags are not valid and may be ignored: ['temperature']. Set `TRANSFORMERS_VERBOSITY=info` for more details.\n",
      "The following generation flags are not valid and may be ignored: ['temperature']. Set `TRANSFORMERS_VERBOSITY=info` for more details.\n",
      "The following generation flags are not valid and may be ignored: ['temperature']. Set `TRANSFORMERS_VERBOSITY=info` for more details.\n",
      "The following generation flags are not valid and may be ignored: ['temperature']. Set `TRANSFORMERS_VERBOSITY=info` for more details.\n",
      "The following generation flags are not valid and may be ignored: ['temperature']. Set `TRANSFORMERS_VERBOSITY=info` for more details.\n",
      "100%|██████████████████████████████████████████████████████████████████████████████████| 38/38 [26:37<00:00, 42.03s/it]\n"
     ]
    }
   ],
   "source": [
    "from unittest.mock import patch\n",
    "test_args = [\"./RARR/RARR/run_editor_sequential.py\",\n",
    "             \"--input_file\", input_file,\n",
    "             \"--output_file\", output_file,\n",
    "             \"--claim_field\", claim_field,\n",
    "             \"--num_rounds_qgen\", str(2)\n",
    "]\n",
    "with patch.object(sys, \"argv\", test_args):\n",
    "    run_editor_sequential.main()"
   ]
  },
  {
   "cell_type": "markdown",
   "id": "7f64cf9b-2fcb-45ea-bd07-85e0d5b0cd26",
   "metadata": {},
   "source": [
    "## Piecing Back Together"
   ]
  },
  {
   "cell_type": "code",
   "execution_count": 3,
   "id": "b8bd12da-21a2-4d5f-86b0-e9ca7a5a9305",
   "metadata": {},
   "outputs": [],
   "source": [
    "with open(output_file, \"r\", encoding=\"utf-8\") as file:\n",
    "    attr = [json.loads(line) for line in file]"
   ]
  },
  {
   "cell_type": "code",
   "execution_count": 58,
   "id": "d87bbd86-b407-4ab7-8bcc-1b282a66b448",
   "metadata": {},
   "outputs": [],
   "source": [
    "def markdown_citations(output_dict):\n",
    "    # TODO: teest if this works\n",
    "    text_l, url_l = \"text\", \"url\"\n",
    "\n",
    "    selected_evidences = output_dict[\"result\"][\"selected_evidences\"]\n",
    "    selected_evidences = [selected_evidences[i][text_l] for i in range(len(selected_evidences))]\n",
    "    evidences = output_dict[\"result\"][\"revisions\"][0][\"evidences\"]\n",
    "\n",
    "    citations = []\n",
    "    distinct_urls = set() # no duplicate websites\n",
    "    for e in evidences:\n",
    "        if e[text_l] in selected_evidences and e[url_l] not in distinct_urls:\n",
    "            citations.append({text_l: e[text_l], url_l: e[url_l]})\n",
    "            distinct_urls.add(e[url_l])\n",
    "    return ''.join([f\"[[{i}]]({citations[i][url_l]} \\\"Cited text: {citations[i][text_l].replace(\"\\\"\", \"\\\\\\\"\")}\\\")\" for i in range(len(citations))])\n",
    "\n",
    "def add_citation_to_sentence(output_dict):\n",
    "    sentence = output_dict[\"result\"][\"revisions\"][0][\"revised_text\"]\n",
    "    citations = markdown_citations(output_dict)\n",
    "    return sentence + citations + \" \""
   ]
  },
  {
   "cell_type": "code",
   "execution_count": 59,
   "id": "c38b0b5d-cab9-40c4-86dc-7bed9ef695c6",
   "metadata": {},
   "outputs": [],
   "source": [
    "reconstructed_article = \"\".join([add_citation_to_sentence(a) for a in attr])"
   ]
  },
  {
   "cell_type": "code",
   "execution_count": 60,
   "id": "7caddcc6-3d86-44ad-a766-7865217090a4",
   "metadata": {},
   "outputs": [],
   "source": [
    "md_path = \"md_output.md\"\n",
    "with open(md_path, \"w\", encoding=\"utf-8\") as file:\n",
    "    file.write(reconstructed_article)"
   ]
  },
  {
   "cell_type": "markdown",
   "id": "8457de0b-f7d6-497c-80b9-cfce81831387",
   "metadata": {
    "jp-MarkdownHeadingCollapsed": true
   },
   "source": [
    "# Extra"
   ]
  },
  {
   "cell_type": "markdown",
   "id": "0995c429-6e0f-419f-a898-496ef7cefb7b",
   "metadata": {
    "jp-MarkdownHeadingCollapsed": true
   },
   "source": [
    "## RARR Playground"
   ]
  },
  {
   "cell_type": "code",
   "execution_count": 1,
   "id": "caa5c96c-0df3-4266-b3c1-7aaf83448eb9",
   "metadata": {},
   "outputs": [],
   "source": [
    "%load_ext autoreload\n",
    "%autoreload 2"
   ]
  },
  {
   "cell_type": "code",
   "execution_count": 67,
   "id": "57b78f2f-9cf6-46ad-8a29-93076719bb35",
   "metadata": {},
   "outputs": [],
   "source": [
    "import importlib\n",
    "import sys\n",
    "sys.path.append(\"./RARR/RARR\")\n",
    "sys.path.append(\"./RARR/RARR/utils\")\n",
    "sys.path.append(\"./RARR/RARR/prompts\")\n",
    "import run_editor_sequential\n",
    "import rarr_prompts\n",
    "import stop_criteria\n",
    "import search\n",
    "import agreement_gate"
   ]
  },
  {
   "cell_type": "code",
   "execution_count": 3,
   "id": "d26f8a9d-9568-4cdc-a38f-ca2dc2f4979c",
   "metadata": {},
   "outputs": [],
   "source": [
    "import transformers\n",
    "import torch"
   ]
  },
  {
   "cell_type": "code",
   "execution_count": 4,
   "id": "330872a7-80e9-46a4-84b8-650bf93a57f7",
   "metadata": {},
   "outputs": [
    {
     "name": "stderr",
     "output_type": "stream",
     "text": [
      "Device set to use cuda:0\n"
     ]
    }
   ],
   "source": [
    "# Init pipeline\n",
    "model_id = \"TinyLlama/TinyLlama_v1.1\"\n",
    "pipeline = transformers.pipeline(\n",
    "    \"text-generation\",\n",
    "    model=model_id,\n",
    "    torch_dtype=torch.float16,\n",
    "    device_map=\"auto\",\n",
    ")\n",
    "tokenizer = transformers.AutoTokenizer.from_pretrained(model_id)"
   ]
  },
  {
   "cell_type": "code",
   "execution_count": 85,
   "id": "a7858eef-b56d-4db4-abe9-9f1994801460",
   "metadata": {},
   "outputs": [
    {
     "name": "stdout",
     "output_type": "stream",
     "text": [
      "Questions generated.\n"
     ]
    },
    {
     "name": "stderr",
     "output_type": "stream",
     "text": [
      "The following generation flags are not valid and may be ignored: ['temperature']. Set `TRANSFORMERS_VERBOSITY=info` for more details.\n"
     ]
    },
    {
     "name": "stdout",
     "output_type": "stream",
     "text": [
      "Evidence found.\n"
     ]
    },
    {
     "name": "stderr",
     "output_type": "stream",
     "text": [
      "The following generation flags are not valid and may be ignored: ['temperature']. Set `TRANSFORMERS_VERBOSITY=info` for more details.\n",
      "The following generation flags are not valid and may be ignored: ['temperature']. Set `TRANSFORMERS_VERBOSITY=info` for more details.\n",
      "The following generation flags are not valid and may be ignored: ['temperature']. Set `TRANSFORMERS_VERBOSITY=info` for more details.\n",
      "The following generation flags are not valid and may be ignored: ['temperature']. Set `TRANSFORMERS_VERBOSITY=info` for more details.\n",
      "The following generation flags are not valid and may be ignored: ['temperature']. Set `TRANSFORMERS_VERBOSITY=info` for more details.\n",
      "The following generation flags are not valid and may be ignored: ['temperature']. Set `TRANSFORMERS_VERBOSITY=info` for more details.\n",
      "The following generation flags are not valid and may be ignored: ['temperature']. Set `TRANSFORMERS_VERBOSITY=info` for more details.\n"
     ]
    },
    {
     "name": "stdout",
     "output_type": "stream",
     "text": [
      "Revisions completed.\n"
     ]
    }
   ],
   "source": [
    "claim = \"Water is a solid at room temperature.\"\n",
    "pipeline_bundle = stop_criteria.PipelineInfoBundle(pipeline, tokenizer)\n",
    "hallucinate_evidence = False\n",
    "\n",
    "result = run_editor_sequential.main()"
   ]
  },
  {
   "cell_type": "code",
   "execution_count": 86,
   "id": "cb1654b9-5d3e-4505-97b7-2d6a95784eb8",
   "metadata": {},
   "outputs": [
    {
     "data": {
      "text/plain": [
       "{'original_text': 'Water is a solid at room temperature.',\n",
       " 'revised_text': 'Water is a solid at room temperature.',\n",
       " 'evidences': [{'text': 'The melting point (or, rarely, liquefaction point ) of a substance is the temperature at which it changes state from solid to liquid . At the melting point the solid and liquid phase exist in equilibrium . The melting point of a substance depends on pressure and is usually specified at a standard pressure such as 1 atmosphere or 100 kPa . When considered as the temperature of the reverse change from liquid to solid, it is referred to as the freezing point or crystallization point .',\n",
       "   'url': 'https://en.wikipedia.org/wiki/Melting_point',\n",
       "   'query': 'What is its melting point?',\n",
       "   'sents_per_passage': 4,\n",
       "   'retrieval_score': 9.515480995178223,\n",
       "   'score': 0.5304679274559021},\n",
       "  {'text': 'The boiling point of a liquid varies according to the applied pressure; the normal boiling point is the temperature at which the vapour pressure is equal to the standard sea-level atmospheric pressure (760 mm [29.92 inches] of mercury). At sea level , water boils at 100° C (212° F). At higher altitudes the temperature of the boiling point is lower.',\n",
       "   'url': 'https://www.britannica.com/science/boiling-point',\n",
       "   'query': 'What is the boiling point of water at room temperature?',\n",
       "   'sents_per_passage': 4,\n",
       "   'retrieval_score': 6.326987266540527,\n",
       "   'score': 0.504419207572937},\n",
       "  {'text': 'Water’s freezing point is generally accepted to be 32 degrees Fahrenheit. But that is due to ice nucleation — impurities in everyday water raise its freezing point to this temperature. Now, researchers unveil a theoretical model that shows how specific structural details on surfaces can influence water’s freezing point. The researchers will present their results at the spring meeting of the American Chemical Society (ACS).',\n",
       "   'url': 'https://www.acs.org/pressroom/presspacs/2024/march/new-model-clarifies-why-water-freezes-at-a-range-of-temperatures.html',\n",
       "   'query': 'What is the freezing point of water at room temperature?',\n",
       "   'sents_per_passage': 4,\n",
       "   'retrieval_score': 7.286823272705078,\n",
       "   'score': 0.554223895072937},\n",
       "  {'text': \"The freezing point or melting point of water is the temperature at which water changes phase from a liquid to a solid or vice versa. The freezing point of water describes the point at which water transitions from a liquid to a solid ( ice ), while the melting point is the temperature at which water turns from a solid (ice) to a liquid. In theory, the two temperatures would be the same, but liquids can be supercooled beyond their freezing points so that they don't solidify until well below the freezing point. Ordinarily, the freezing and melting point of water is 0 °C or 32 °F .\",\n",
       "   'url': 'https://www.thoughtco.com/the-freezing-point-of-water-609418',\n",
       "   'query': 'What is the freezing point of water?',\n",
       "   'sents_per_passage': 4,\n",
       "   'retrieval_score': 9.920243263244629,\n",
       "   'score': 0.9663206338882446},\n",
       "  {'text': 'The melting point of water is the temperature at which it changes from solid ice into liquid water. The solid and liquid phase of water are in equilibrium at this temperature. The melting point depends slightly on pressure , so there is not a single temperature that can be considered to be the melting point of water. However, for practical purposes, the melting point of pure water ice at 1 atmosphere of pressure is very nearly 0',\n",
       "   'url': 'https://www.thoughtco.com/what-is-the-melting-point-of-water-609414',\n",
       "   'query': 'What is the melting point of water?',\n",
       "   'sents_per_passage': 4,\n",
       "   'retrieval_score': 10.208450317382812,\n",
       "   'score': 0.3851327896118164},\n",
       "  {'text': 'Room temperature is generally considered to be 20°C (68°F). Martin often reminds his audience that good quality water should not have any scent except in the rare case of certain, unusual, very high mineral waters. It is worth noting that the room temperature consensus in the epicurean world represents a change from the past. Those recommendations included slightly chilling the water to somewhere between 12°C and 17°C (54°F to 63°F).',\n",
       "   'url': 'https://svalbardi.com/blogs/news/best-temperature-to-drink-water',\n",
       "   'query': 'What is the temperature of water at room temperature?',\n",
       "   'sents_per_passage': 4,\n",
       "   'retrieval_score': 8.513099670410156,\n",
       "   'score': 0.9315352439880371},\n",
       "  {'text': 'This is because water at this temperature can be easily absorbed by the body and can be comfortably consumed without causing thermal shock to your system. What Temperature is Water? Room temperature water is around 25 degrees Celsius (78 degrees Fahrenheit), compared to cold tap water which is around 15 degrees Celsius (60 degrees Fahrenheit). As there are different water temperatures with different benefits, there are many differences between drinking room temperature water, cold water and warm water.',\n",
       "   'url': 'https://www.brita.co.uk/news-stories/dispenser/what-is-the-best-temperature-for-drinking-water',\n",
       "   'query': 'What is the temperature of water?',\n",
       "   'sents_per_passage': 4,\n",
       "   'retrieval_score': 8.249893188476562,\n",
       "   'score': 0.7261205911636353}],\n",
       " 'agreement_gates': [{'is_open': False,\n",
       "   'reason': 'The article said the melting point of water and you said the melting point of water is 373 K.',\n",
       "   'decision': 'This agrees with what you said.'},\n",
       "  {'is_open': False,\n",
       "   'reason': 'The article said the boiling point of water at room temperature and you said the boiling point of water at room temperature.',\n",
       "   'decision': 'This agrees with what you said.'},\n",
       "  {'is_open': False,\n",
       "   'reason': 'The article said the freezing point of water at room temperature and you said the freezing point of water at room temperature.',\n",
       "   'decision': 'This agrees with what you said.'},\n",
       "  {'is_open': True,\n",
       "   'reason': 'The article said the freezing point of water and you said the freezing point of water.',\n",
       "   'decision': 'This disagrees with what you said.'},\n",
       "  {'is_open': False,\n",
       "   'reason': 'The article said the melting point of water is the temperature at which it changes from solid ice into liquid water and you said the melting point of water is the temperature at which it changes from solid ice into liquid water.',\n",
       "   'decision': 'This agrees with what you said.'},\n",
       "  {'is_open': False,\n",
       "   'reason': 'The article said the temperature of water at room temperature and you said the temperature of water at room temperature.',\n",
       "   'decision': 'This agrees with what you said.'},\n",
       "  {'is_open': False,\n",
       "   'reason': 'The article said the temperature of water is at room temperature and you said the temperature of water is at 25 degrees Celsius.',\n",
       "   'decision': 'This agrees with what you said.'}],\n",
       " 'revision_steps': [{'text': 'Water is a solid at room temperature.'},\n",
       "  {'text': 'Water is a solid at room temperature.'},\n",
       "  {'text': 'Water is a solid at room temperature.'},\n",
       "  {'text': 'Water is a solid at room temperature.'},\n",
       "  {'text': 'Water is a solid at room temperature.'},\n",
       "  {'text': 'Water is a solid at room temperature.'},\n",
       "  {'text': 'Water is a solid at room temperature.'}]}"
      ]
     },
     "execution_count": 86,
     "metadata": {},
     "output_type": "execute_result"
    }
   ],
   "source": [
    "result[\"revisions\"][0]"
   ]
  },
  {
   "cell_type": "markdown",
   "id": "2ea88b03-fb62-4c8c-85db-9d1311c5c0cc",
   "metadata": {
    "jp-MarkdownHeadingCollapsed": true
   },
   "source": [
    "## Context Cite (Unused)"
   ]
  },
  {
   "cell_type": "code",
   "execution_count": 10,
   "id": "9592d9b6-c719-4ebd-b904-13115f91a810",
   "metadata": {},
   "outputs": [],
   "source": [
    "from context_cite import ContextCiter\n",
    "\n",
    "hallucinated_context = outputs[0]['generated_text'] # DO NOT USE AS REAL CONTEXT\n",
    "query = \"What are some types of data structures?\"\n",
    "cc = ContextCiter.from_pretrained(model_id, hallucinated_context, query, device=\"cuda\")"
   ]
  },
  {
   "cell_type": "code",
   "execution_count": 11,
   "id": "3552a2b3-e4cc-46f9-8009-f9d3371366ec",
   "metadata": {},
   "outputs": [
    {
     "data": {
      "text/plain": [
       "'Sure, here are some types of data structures:\\n\\n1. Arrays: An array is a collection of objects or data elements, where each object occupies a specific location in memory.\\n\\n2. Sets: A set is a collection of unique elements.\\n\\n3. Maps: A map is a collection of keys (indices) and values.\\n\\n4. Stacks: A stack is a collection of items that can be added to or removed from the end.\\n\\n5. Queues: A queue is a collection of items that can be added to the front, and removed from the back.\\n\\n6. Hash Tables: A hash table is a data structure that maps keys to values.\\n\\n7. Graphs: Graphs are used to represent networks and to analyze their properties.\\n\\n8. Image Processing: Data structures are used to store and manipulate images.\\n\\n9. Web Technologies: Web technologies use data structures to store and retrieve user data.\\n\\nThese are just a few examples of the many types of data structures that exist. The specific data structures used in a particular application will depend on the specific requirements and constraints of that application.</s>'"
      ]
     },
     "execution_count": 11,
     "metadata": {},
     "output_type": "execute_result"
    }
   ],
   "source": [
    "cc.response"
   ]
  },
  {
   "cell_type": "code",
   "execution_count": 12,
   "id": "60ace03e-2054-4b8d-a4fc-4aff6f764a8d",
   "metadata": {},
   "outputs": [
    {
     "name": "stdout",
     "output_type": "stream",
     "text": [
      "Attributed: Sure, here are some types of data structures:\n",
      "\n",
      "1. Arrays: An array is a collection of objects or data elements, where each object occupies a specific location in memory.\n",
      "\n",
      "2. Sets: A set is a collection of unique elements.\n",
      "\n",
      "3. Maps: A map is a collection of keys (indices) and values.\n",
      "\n",
      "4. Stacks: A stack is a collection of items that can be added to or removed from the end.\n",
      "\n",
      "5. Queues: A queue is a collection of items that can be added to the front, and removed from the back.\n",
      "\n",
      "6. Hash Tables: A hash table is a data structure that maps keys to values.\n",
      "\n",
      "7. Graphs: Graphs are used to represent networks and to analyze their properties.\n",
      "\n",
      "8. Image Processing: Data structures are used to store and manipulate images.\n",
      "\n",
      "9. Web Technologies: Web technologies use data structures to store and retrieve user data.\n",
      "\n",
      "These are just a few examples of the many types of data structures that exist. The specific data structures used in a particular application will depend on the specific requirements and constraints of that application.</s>\n"
     ]
    },
    {
     "data": {
      "application/vnd.jupyter.widget-view+json": {
       "model_id": "5358c9bd02a04691b0e3897a1f82de24",
       "version_major": 2,
       "version_minor": 0
      },
      "text/plain": [
       "  0%|          | 0/64 [00:00<?, ?it/s]"
      ]
     },
     "metadata": {},
     "output_type": "display_data"
    },
    {
     "name": "stderr",
     "output_type": "stream",
     "text": [
      "C:\\Users\\coder\\miniconda3\\envs\\forward\\Lib\\site-packages\\context_cite\\utils.py:119: FutureWarning: `torch.cuda.amp.autocast(args...)` is deprecated. Please use `torch.amp.autocast('cuda', args...)` instead.\n",
      "  with ch.no_grad(), ch.cuda.amp.autocast():\n",
      "C:\\Users\\coder\\miniconda3\\envs\\forward\\Lib\\site-packages\\context_cite\\utils.py:192: FutureWarning: Styler.applymap has been deprecated. Use Styler.map instead.\n",
      "  return df.style.applymap(lambda val: _color_scale(val, max_val), subset=[\"Score\"])\n"
     ]
    },
    {
     "data": {
      "text/html": [
       "<style type=\"text/css\">\n",
       "#T_896f6_row0_col0 {\n",
       "  background-color: rgb(80, 180, 80);\n",
       "}\n",
       "#T_896f6_row1_col0 {\n",
       "  background-color: rgb(121.44245640372466, 197.76105274445342, 121.44245640372466);\n",
       "}\n",
       "#T_896f6_row2_col0 {\n",
       "  background-color: rgb(121.6821391047308, 197.86377390202748, 121.6821391047308);\n",
       "}\n",
       "#T_896f6_row3_col0 {\n",
       "  background-color: rgb(192.4672797741251, 228.20026276033934, 192.4672797741251);\n",
       "}\n",
       "#T_896f6_row4_col0 {\n",
       "  background-color: rgb(197.3627807986588, 230.29833462799664, 197.3627807986588);\n",
       "}\n",
       "</style>\n",
       "<table id=\"T_896f6\">\n",
       "  <thead>\n",
       "    <tr>\n",
       "      <th class=\"blank level0\" >&nbsp;</th>\n",
       "      <th id=\"T_896f6_level0_col0\" class=\"col_heading level0 col0\" >Score</th>\n",
       "      <th id=\"T_896f6_level0_col1\" class=\"col_heading level0 col1\" >Source</th>\n",
       "    </tr>\n",
       "  </thead>\n",
       "  <tbody>\n",
       "    <tr>\n",
       "      <th id=\"T_896f6_level0_row0\" class=\"row_heading level0 row0\" >0</th>\n",
       "      <td id=\"T_896f6_row0_col0\" class=\"data row0 col0\" >21.734</td>\n",
       "      <td id=\"T_896f6_row0_col1\" class=\"data row0 col1\" >- Graph Theory - Graphs are used to represent networks and to analyze their properties.</td>\n",
       "    </tr>\n",
       "    <tr>\n",
       "      <th id=\"T_896f6_level0_row1\" class=\"row_heading level0 row1\" >1</th>\n",
       "      <td id=\"T_896f6_row1_col0\" class=\"data row1 col0\" >16.587</td>\n",
       "      <td id=\"T_896f6_row1_col1\" class=\"data row1 col1\" >- Web Technologies - Web technologies use data structures to store and retrieve user data.</td>\n",
       "    </tr>\n",
       "    <tr>\n",
       "      <th id=\"T_896f6_level0_row2\" class=\"row_heading level0 row2\" >2</th>\n",
       "      <td id=\"T_896f6_row2_col0\" class=\"data row2 col0\" >16.557</td>\n",
       "      <td id=\"T_896f6_row2_col1\" class=\"data row2 col1\" >- Arrays - An array is a collection of objects or data elements, where each object occupies a specific location in memory.</td>\n",
       "    </tr>\n",
       "    <tr>\n",
       "      <th id=\"T_896f6_level0_row3\" class=\"row_heading level0 row3\" >3</th>\n",
       "      <td id=\"T_896f6_row3_col0\" class=\"data row3 col0\" >7.766</td>\n",
       "      <td id=\"T_896f6_row3_col1\" class=\"data row3 col1\" >- Stacks - A stack is a collection of items that can be added to or removed from the end.</td>\n",
       "    </tr>\n",
       "    <tr>\n",
       "      <th id=\"T_896f6_level0_row4\" class=\"row_heading level0 row4\" >4</th>\n",
       "      <td id=\"T_896f6_row4_col0\" class=\"data row4 col0\" >7.158</td>\n",
       "      <td id=\"T_896f6_row4_col1\" class=\"data row4 col1\" >- Maps - A map is a collection of keys (indices) and values.</td>\n",
       "    </tr>\n",
       "  </tbody>\n",
       "</table>\n"
      ],
      "text/plain": [
       "<pandas.io.formats.style.Styler at 0x1ecab8618e0>"
      ]
     },
     "execution_count": 12,
     "metadata": {},
     "output_type": "execute_result"
    }
   ],
   "source": [
    "cc.get_attributions(as_dataframe=True, top_k=5)"
   ]
  },
  {
   "cell_type": "code",
   "execution_count": 13,
   "id": "8b14ca09-9c7a-49c9-a9c3-e4db81d895f4",
   "metadata": {},
   "outputs": [
    {
     "data": {
      "text/plain": [
       "'emoved from the back.\\n\\n6. Hash Tables: A hash table is a data structure that maps keys to values.\\n\\n7. Graphs: Graphs are used to represent networks and to analyze their properti'"
      ]
     },
     "execution_count": 13,
     "metadata": {},
     "output_type": "execute_result"
    }
   ],
   "source": [
    "cc.response[457:634]"
   ]
  },
  {
   "cell_type": "code",
   "execution_count": 14,
   "id": "1ace9369-ab29-42c8-84df-7713c51b877a",
   "metadata": {},
   "outputs": [
    {
     "name": "stdout",
     "output_type": "stream",
     "text": [
      "Attributed: removed from the back.\n",
      "\n",
      "6. Hash Tables: A hash table is a data structure that maps keys to values.\n",
      "\n",
      "7. Graphs: Graphs are used to represent networks and to analyze their properties\n"
     ]
    },
    {
     "name": "stderr",
     "output_type": "stream",
     "text": [
      "C:\\Users\\coder\\miniconda3\\envs\\forward\\Lib\\site-packages\\context_cite\\utils.py:192: FutureWarning: Styler.applymap has been deprecated. Use Styler.map instead.\n",
      "  return df.style.applymap(lambda val: _color_scale(val, max_val), subset=[\"Score\"])\n"
     ]
    },
    {
     "data": {
      "text/html": [
       "<style type=\"text/css\">\n",
       "#T_d67e6_row0_col0 {\n",
       "  background-color: rgb(80, 180, 80);\n",
       "}\n",
       "#T_d67e6_row1_col0 {\n",
       "  background-color: rgb(243.7589674026117, 250.1824146011193, 243.7589674026117);\n",
       "}\n",
       "#T_d67e6_row2_col0 {\n",
       "  background-color: rgb(253.92887888675781, 254.5409480943248, 253.92887888675781);\n",
       "}\n",
       "#T_d67e6_row3_col0 {\n",
       "  background-color: rgb(254.00439549538763, 254.5733123551661, 254.00439549538763);\n",
       "}\n",
       "#T_d67e6_row4_col0 {\n",
       "  background-color: rgb(255, 255, 255);\n",
       "}\n",
       "</style>\n",
       "<table id=\"T_d67e6\">\n",
       "  <thead>\n",
       "    <tr>\n",
       "      <th class=\"blank level0\" >&nbsp;</th>\n",
       "      <th id=\"T_d67e6_level0_col0\" class=\"col_heading level0 col0\" >Score</th>\n",
       "      <th id=\"T_d67e6_level0_col1\" class=\"col_heading level0 col1\" >Source</th>\n",
       "    </tr>\n",
       "  </thead>\n",
       "  <tbody>\n",
       "    <tr>\n",
       "      <th id=\"T_d67e6_level0_row0\" class=\"row_heading level0 row0\" >0</th>\n",
       "      <td id=\"T_d67e6_row0_col0\" class=\"data row0 col0\" >20.081</td>\n",
       "      <td id=\"T_d67e6_row0_col1\" class=\"data row0 col1\" >- Graph Theory - Graphs are used to represent networks and to analyze their properties.</td>\n",
       "    </tr>\n",
       "    <tr>\n",
       "      <th id=\"T_d67e6_level0_row1\" class=\"row_heading level0 row1\" >1</th>\n",
       "      <td id=\"T_d67e6_row1_col0\" class=\"data row1 col0\" >1.290</td>\n",
       "      <td id=\"T_d67e6_row1_col1\" class=\"data row1 col1\" >- Queues - A queue is a collection of items that can be added to the front, and removed from the back.</td>\n",
       "    </tr>\n",
       "    <tr>\n",
       "      <th id=\"T_d67e6_level0_row2\" class=\"row_heading level0 row2\" >2</th>\n",
       "      <td id=\"T_d67e6_row2_col0\" class=\"data row2 col0\" >0.123</td>\n",
       "      <td id=\"T_d67e6_row2_col1\" class=\"data row2 col1\" >- Arrays - An array is a collection of objects or data elements, where each object occupies a specific location in memory.</td>\n",
       "    </tr>\n",
       "    <tr>\n",
       "      <th id=\"T_d67e6_level0_row3\" class=\"row_heading level0 row3\" >3</th>\n",
       "      <td id=\"T_d67e6_row3_col0\" class=\"data row3 col0\" >0.114</td>\n",
       "      <td id=\"T_d67e6_row3_col1\" class=\"data row3 col1\" >C++ had the concept of a data structure for arrays and pointers, while Java had the concept of a stack or a queue.</td>\n",
       "    </tr>\n",
       "    <tr>\n",
       "      <th id=\"T_d67e6_level0_row4\" class=\"row_heading level0 row4\" >4</th>\n",
       "      <td id=\"T_d67e6_row4_col0\" class=\"data row4 col0\" >-0.000</td>\n",
       "      <td id=\"T_d67e6_row4_col1\" class=\"data row4 col1\" >By understanding these concepts, developers can work with data structures to build efficient and reliable software systems.</td>\n",
       "    </tr>\n",
       "  </tbody>\n",
       "</table>\n"
      ],
      "text/plain": [
       "<pandas.io.formats.style.Styler at 0x1ecab862690>"
      ]
     },
     "execution_count": 14,
     "metadata": {},
     "output_type": "execute_result"
    }
   ],
   "source": [
    "cc.get_attributions(start_idx=457, end_idx=634, as_dataframe=True, top_k=5)"
   ]
  }
 ],
 "metadata": {
  "kernelspec": {
   "display_name": "Python 3 (ipykernel)",
   "language": "python",
   "name": "python3"
  },
  "language_info": {
   "codemirror_mode": {
    "name": "ipython",
    "version": 3
   },
   "file_extension": ".py",
   "mimetype": "text/x-python",
   "name": "python",
   "nbconvert_exporter": "python",
   "pygments_lexer": "ipython3",
   "version": "3.12.10"
  }
 },
 "nbformat": 4,
 "nbformat_minor": 5
}
